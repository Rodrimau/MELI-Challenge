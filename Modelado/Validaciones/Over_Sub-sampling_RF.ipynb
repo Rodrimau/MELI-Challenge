{
 "cells": [
  {
   "cell_type": "code",
   "execution_count": 1,
   "metadata": {},
   "outputs": [],
   "source": [
    "# Importacion de paquetes necesarios\n",
    "import pandas as pd\n",
    "import numpy as np\n",
    "import csv\n",
    "import os\n",
    "from pathlib import Path\n",
    "import datetime\n",
    "from datetime import date\n",
    "from imblearn.over_sampling import SMOTE\n",
    "import random\n",
    "\n",
    "\n",
    "from sklearn import metrics\n",
    "from sklearn.metrics import accuracy_score\n",
    "from sklearn.model_selection import train_test_split,cross_val_score\n",
    "from sklearn.model_selection import StratifiedKFold\n",
    "from sklearn.ensemble import RandomForestClassifier\n",
    "\n",
    "from hyperopt import hp, fmin, tpe, hp, STATUS_OK, Trials\n",
    "from hyperopt import Trials\n",
    "from timeit import default_timer as timer\n",
    "import ml_metrics   \n",
    "\n",
    "pd.set_option('display.max_rows', 40)\n",
    "pd.set_option('display.max_columns', 500)\n",
    "pd.set_option('display.width', 1000)\n"
   ]
  },
  {
   "cell_type": "markdown",
   "metadata": {},
   "source": [
    "#### Exportamos el dataset limpio"
   ]
  },
  {
   "cell_type": "code",
   "execution_count": 2,
   "metadata": {},
   "outputs": [],
   "source": [
    "df = pd.read_csv(\"../data_predictive/clean_sold.csv\", index_col=0)\n"
   ]
  },
  {
   "cell_type": "markdown",
   "metadata": {},
   "source": [
    "#### Seteamos la Seed"
   ]
  },
  {
   "cell_type": "code",
   "execution_count": 3,
   "metadata": {},
   "outputs": [],
   "source": [
    "#### Apparently you may use different seed values at each stage\n",
    "seed_value= 0\n",
    "# 1. Set `PYTHONHASHSEED` environment variable at a fixed value\n",
    "os.environ['PYTHONHASHSEED']=str(seed_value)\n",
    "# 2. Set `python` built-in pseudo-random generator at a fixed value\n",
    "random.seed(seed_value)\n",
    "# 3. Set `numpy` pseudo-random generator at a fixed value\n",
    "np.random.seed(seed_value)\n",
    "# 4. Set the `tensorflow` pseudo-random generator at a fixed value"
   ]
  },
  {
   "cell_type": "markdown",
   "metadata": {},
   "source": [
    "#### Hacemos primero un subsampleo de la clase mayoritaria para luego terminar de igualar las prporciones cada categoria a predecir mediante el método de oversampleo SMOTE"
   ]
  },
  {
   "cell_type": "code",
   "execution_count": 4,
   "metadata": {},
   "outputs": [
    {
     "name": "stdout",
     "output_type": "stream",
     "text": [
      "Proporción por clase\n",
      "5       0.517713\n",
      "0       0.094993\n",
      "50      0.091236\n",
      "200     0.055879\n",
      "250     0.049314\n",
      "100     0.048435\n",
      "1       0.033772\n",
      "150     0.032411\n",
      "2       0.027414\n",
      "3       0.021383\n",
      "4       0.017145\n",
      "500     0.010149\n",
      "5000    0.000155\n",
      "Name: sold_quantity, dtype: float64\n"
     ]
    }
   ],
   "source": [
    "sold_prop = df[\"sold_quantity\"].value_counts()/len(df)\n",
    "print(\"Proporción por clase\")\n",
    "print(sold_prop)"
   ]
  },
  {
   "cell_type": "markdown",
   "metadata": {},
   "source": [
    "#### Tomo un decimo de la categoria mayoritaria"
   ]
  },
  {
   "cell_type": "code",
   "execution_count": 5,
   "metadata": {},
   "outputs": [],
   "source": [
    "subs_df =pd.DataFrame()\n",
    "for level,prop in sold_prop.items():\n",
    "    subs_df = pd.concat([subs_df , df[df[\"sold_quantity\"] == level ].sample(frac =( 1 if prop<0.10 else 0.1 ))])"
   ]
  },
  {
   "cell_type": "code",
   "execution_count": 8,
   "metadata": {},
   "outputs": [],
   "source": [
    "y = subs_df[\"sold_quantity\"]\n",
    "X = subs_df.drop([\"sold_quantity\"],axis=1)\n",
    "\n",
    "smote = SMOTE()\n",
    "X_sm, y_sm = smote.fit_sample(X, y)\n",
    "\n",
    "X_sm_sample = X_sm.sample(frac=0.3)\n",
    "y_sm_sample = y_sm[X_sm_sample.index]\n",
    "\n",
    "X_train, X_test, y_train, y_test = train_test_split(X_sm_sample, y_sm_sample, train_size=0.7)"
   ]
  },
  {
   "cell_type": "markdown",
   "metadata": {},
   "source": [
    "#### Obtento 70000 registros del Sub-Over Sampling"
   ]
  },
  {
   "cell_type": "code",
   "execution_count": 9,
   "metadata": {},
   "outputs": [
    {
     "data": {
      "text/plain": [
       "71669"
      ]
     },
     "execution_count": 9,
     "metadata": {},
     "output_type": "execute_result"
    }
   ],
   "source": [
    "len(X_sm)"
   ]
  },
  {
   "cell_type": "code",
   "execution_count": 10,
   "metadata": {},
   "outputs": [
    {
     "name": "stdout",
     "output_type": "stream",
     "text": [
      "already exists\n"
     ]
    }
   ],
   "source": [
    "exp_name = 'test_exp'\n",
    "folder = 'Resultados/' + exp_name\n",
    "my_file = Path(folder)\n",
    "if os.path.exists(my_file):\n",
    "    print('already exists')\n",
    "else:\n",
    "    os.makedirs(folder)\n",
    "\n",
    "out_file = folder + '/overrf_results.csv'\n",
    "of_connection = open(out_file, 'w')"
   ]
  },
  {
   "cell_type": "code",
   "execution_count": 11,
   "metadata": {},
   "outputs": [],
   "source": [
    "space = {\"criterion\" : hp.choice('criterion', [\"gini\", \"entropy\"]),\n",
    "     \"max_features\"  : hp.choice('max_features', ['sqrt','log2',0.2,0.5,0.8]),\n",
    "    'colsample_bytree' : hp.quniform('colsample_bytree', 0.1, 1.0, 0.01),\n",
    "    'n_estimators' : hp.choice('n_estimators', range(50,700,50)),\n",
    "    'bootstrap' : hp.choice('bootstrap',[True,False]),\n",
    "    'gamma' : hp.quniform('gamma', 0, 0.5, 0.01),\n",
    "    'max_depth' : hp.choice('max_depth', range(5, 300, 30)),\n",
    "    'subsample' : hp.quniform('subsample', 0.1, 1, 0.01)\n",
    "    }\n"
   ]
  },
  {
   "cell_type": "code",
   "execution_count": 12,
   "metadata": {},
   "outputs": [],
   "source": [
    "#Objective function that hyperopt will minimize\n",
    "from timeit import default_timer as timer\n",
    "import ml_metrics   \n",
    "\n",
    "def objective(params):\n",
    "    start = timer()\n",
    "    print ('Params testing: ', params)\n",
    "    print ('\\n ')\n",
    "    \n",
    "    n_estimators = params[\"n_estimators\"]\n",
    "    max_depth = params[\"max_depth\"]\n",
    "    bootstrap = params[\"bootstrap\"]\n",
    "    criterion = params[\"criterion\"]\n",
    "    max_features = params[\"max_features\"]\n",
    "\n",
    "    model = RandomForestClassifier(n_estimators= n_estimators, max_depth=max_depth,bootstrap=bootstrap,\n",
    "                                 criterion=criterion,max_features=max_features)\n",
    "#     model.fit(X_train,y_train)\n",
    "    #predict the test set \n",
    "#     predictions = model.predict(X_test)\n",
    "#     acc = accuracy_score(y_test, predictions)\n",
    "    skf = StratifiedKFold(n_splits=3, shuffle=True)\n",
    "    fscore = cross_val_score(estimator = model, X = X_train, y = y_train, cv = skf)\n",
    "    CrossValMean = fscore.mean()\n",
    "    print(\"Final CrossValMean: \", CrossValMean)\n",
    "    return{'loss':1-CrossValMean, 'status': STATUS_OK }\n",
    "    \n",
    "    score = 1-CrossValMean\n",
    "    run_time = timer() - start\n",
    "    # Write to the csv file ('a' means append)\n",
    "    of_connection = open(out_file, 'a')\n",
    "    writer = csv.writer(of_connection)\n",
    "    writer.writerow([CrossValMean, params, score, run_time])\n",
    "    of_connection.close()\n",
    "    print('Test accuracy:', CrossValMean)\n",
    " \n",
    "    return {'loss': score,  'status': STATUS_OK, 'train_time': run_time,}\n",
    "\n"
   ]
  },
  {
   "cell_type": "code",
   "execution_count": 13,
   "metadata": {},
   "outputs": [
    {
     "name": "stdout",
     "output_type": "stream",
     "text": [
      "Params testing:                                                                                                        \n",
      "{'bootstrap': True, 'colsample_bytree': 0.55, 'criterion': 'gini', 'gamma': 0.4, 'max_depth': 275, 'max_features': 'log2', 'n_estimators': 550, 'subsample': 1.0}\n",
      "Final CrossValMean:                                                                                                    \n",
      "0.6515617236324726                                                                                                     \n",
      "Params testing:                                                                                                        \n",
      "{'bootstrap': True, 'colsample_bytree': 0.48, 'criterion': 'gini', 'gamma': 0.06, 'max_depth': 215, 'max_features': 'log2', 'n_estimators': 500, 'subsample': 0.87}\n",
      "Final CrossValMean:                                                                                                    \n",
      "0.6489033246557664                                                                                                     \n",
      "Params testing:                                                                                                        \n",
      "{'bootstrap': False, 'colsample_bytree': 0.3, 'criterion': 'entropy', 'gamma': 0.08, 'max_depth': 275, 'max_features': 0.5, 'n_estimators': 650, 'subsample': 0.77}\n",
      "Final CrossValMean:                                                                                                    \n",
      "0.6787375607676059                                                                                                     \n",
      "Params testing:                                                                                                        \n",
      "{'bootstrap': False, 'colsample_bytree': 0.84, 'criterion': 'entropy', 'gamma': 0.08, 'max_depth': 35, 'max_features': 'log2', 'n_estimators': 550, 'subsample': 0.47000000000000003}\n",
      "Final CrossValMean:                                                                                                    \n",
      "0.6542191026851077                                                                                                     \n",
      "Params testing:                                                                                                        \n",
      "{'bootstrap': False, 'colsample_bytree': 0.55, 'criterion': 'gini', 'gamma': 0.31, 'max_depth': 35, 'max_features': 0.2, 'n_estimators': 550, 'subsample': 0.11}\n",
      "Final CrossValMean:                                                                                                    \n",
      "0.6813957478120377                                                                                                     \n",
      "100%|█████████████████████████████████████████████████| 5/5 [11:19<00:00, 135.99s/trial, best loss: 0.3186042521879623]\n"
     ]
    }
   ],
   "source": [
    "tpe_algorithm = tpe.suggest\n",
    "bayes_trials = Trials()\n",
    "trials = Trials()\n",
    "\n",
    "# Run optimization\n",
    "best = fmin(fn = objective, space = space, algo = tpe.suggest, \n",
    "            max_evals = 5, trials = bayes_trials,\n",
    "            verbose = 1, rstate= np.random.RandomState(50))\n"
   ]
  },
  {
   "cell_type": "markdown",
   "metadata": {},
   "source": [
    "#### Mejores Hiperparametros "
   ]
  },
  {
   "cell_type": "code",
   "execution_count": 14,
   "metadata": {},
   "outputs": [],
   "source": [
    "best_oversubrf = {'bootstrap': False, 'colsample_bytree': 0.55, 'criterion': 'gini', 'gamma': 0.31, 'max_depth': 35, 'max_features': 0.2, 'n_estimators': 550, 'subsample': 0.11}"
   ]
  },
  {
   "cell_type": "code",
   "execution_count": null,
   "metadata": {},
   "outputs": [],
   "source": []
  }
 ],
 "metadata": {
  "kernelspec": {
   "display_name": "Python 3",
   "language": "python",
   "name": "python3"
  },
  "language_info": {
   "codemirror_mode": {
    "name": "ipython",
    "version": 3
   },
   "file_extension": ".py",
   "mimetype": "text/x-python",
   "name": "python",
   "nbconvert_exporter": "python",
   "pygments_lexer": "ipython3",
   "version": "3.7.7"
  }
 },
 "nbformat": 4,
 "nbformat_minor": 4
}
