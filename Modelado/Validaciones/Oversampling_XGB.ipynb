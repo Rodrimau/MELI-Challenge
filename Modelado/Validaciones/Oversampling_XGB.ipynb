{
 "cells": [
  {
   "cell_type": "code",
   "execution_count": 1,
   "metadata": {},
   "outputs": [],
   "source": [
    "# Importacion de paquetes necesarios\n",
    "import pandas as pd\n",
    "import numpy as np\n",
    "import csv\n",
    "import os\n",
    "from pathlib import Path\n",
    "import datetime\n",
    "from datetime import date\n",
    "from imblearn.over_sampling import SMOTE\n",
    "import random\n",
    "\n",
    "\n",
    "from sklearn import metrics\n",
    "from sklearn.metrics import accuracy_score\n",
    "from sklearn.model_selection import train_test_split,cross_val_score\n",
    "from sklearn.model_selection import StratifiedKFold\n",
    "from xgboost import XGBClassifier\n",
    "from hyperopt import hp, fmin, tpe, hp, STATUS_OK, Trials\n",
    "from hyperopt import Trials\n",
    "from timeit import default_timer as timer\n",
    "import ml_metrics   \n",
    "\n",
    "pd.set_option('display.max_rows', 40)\n",
    "pd.set_option('display.max_columns', 500)\n",
    "pd.set_option('display.width', 1000)\n"
   ]
  },
  {
   "cell_type": "markdown",
   "metadata": {},
   "source": [
    "#### Exportamos el dataset limpio"
   ]
  },
  {
   "cell_type": "code",
   "execution_count": 11,
   "metadata": {},
   "outputs": [],
   "source": [
    "df = pd.read_csv(\"../data_predictive/clean_sold.csv\", index_col=0)\n"
   ]
  },
  {
   "cell_type": "markdown",
   "metadata": {},
   "source": [
    "#### Seteamos la Seed"
   ]
  },
  {
   "cell_type": "code",
   "execution_count": 16,
   "metadata": {},
   "outputs": [],
   "source": [
    "#### Apparently you may use different seed values at each stage\n",
    "seed_value= 0\n",
    "# 1. Set `PYTHONHASHSEED` environment variable at a fixed value\n",
    "os.environ['PYTHONHASHSEED']=str(seed_value)\n",
    "# 2. Set `python` built-in pseudo-random generator at a fixed value\n",
    "random.seed(seed_value)\n",
    "# 3. Set `numpy` pseudo-random generator at a fixed value\n",
    "np.random.seed(seed_value)\n",
    "# 4. Set the `tensorflow` pseudo-random generator at a fixed value\n",
    "tf.random.set_seed(seed_value)"
   ]
  },
  {
   "cell_type": "markdown",
   "metadata": {},
   "source": [
    "#### Partición al 70%, previamente aplicamos SMOTE a todos el dataset para crear registros sinteticos de las clases minoritarias y balancear las clases a predecir. Luego tomamos una muestra del 30% con 70000 registros "
   ]
  },
  {
   "cell_type": "code",
   "execution_count": 13,
   "metadata": {},
   "outputs": [],
   "source": [
    "y = df[\"sold_quantity\"]\n",
    "X = df.drop([\"sold_quantity\"],axis=1)\n",
    "\n",
    "smote = SMOTE()\n",
    "X_sm, y_sm = smote.fit_sample(X, y)\n",
    "\n",
    "X_sm_sample = X_sm.sample(frac=0.3)\n",
    "y_sm_sample = y_sm[X_sm_sample.index]\n",
    "\n",
    "X_train, X_test, y_train, y_test = train_test_split(X_sm_sample, y_sm_sample, train_size=0.7,random_state = seed_value)"
   ]
  },
  {
   "cell_type": "code",
   "execution_count": 14,
   "metadata": {},
   "outputs": [
    {
     "name": "stdout",
     "output_type": "stream",
     "text": [
      "already exists\n"
     ]
    }
   ],
   "source": [
    "exp_name = 'test_exp'\n",
    "folder = 'Resultados/' + exp_name\n",
    "my_file = Path(folder)\n",
    "if os.path.exists(my_file):\n",
    "    print('already exists')\n",
    "else:\n",
    "    os.makedirs(folder)\n",
    "\n",
    "out_file = folder + '/overxgb_results.csv'\n",
    "of_connection = open(out_file, 'w')"
   ]
  },
  {
   "cell_type": "markdown",
   "metadata": {},
   "source": [
    "#### Espacio de busqueda de los hiperparametros del XGB"
   ]
  },
  {
   "cell_type": "code",
   "execution_count": 15,
   "metadata": {},
   "outputs": [],
   "source": [
    "space = {\n",
    "    'n_estimators' : hp.choice('n_estimators', range(50,1000,25)),\n",
    "    'max_depth' : hp.choice('max_depth', range(5, 300, 5)),\n",
    "    'alpha' : hp.choice('alpha', range(0,20)),\n",
    "    'gamma' : hp.quniform('gamma', 0, 0.5, 0.01),\n",
    "    'subsample' : hp.quniform('subsample', 0.1, 1, 0.01),\n",
    "    'colsample_bytree' : hp.quniform('colsample_bytree', 0.1, 1.0, 0.01),\n",
    "    'learning_rate' : hp.quniform('learning_rate', 0.01, 0.7, 0.01),\n",
    "    'objective' : 'multi:softmax'\n",
    "    }\n"
   ]
  },
  {
   "cell_type": "markdown",
   "metadata": {},
   "source": [
    "#### Función que utilizara la hiperoptimización bayesiana aplicando un 5fold CV"
   ]
  },
  {
   "cell_type": "code",
   "execution_count": 7,
   "metadata": {},
   "outputs": [],
   "source": [
    "#Objective function that hyperopt will minimize\n",
    "\n",
    "\n",
    "\n",
    "def objective(params):\n",
    "    start = timer()\n",
    "    print ('Params testing: ', params)\n",
    "    print ('\\n ')\n",
    "\n",
    "    model = XGBClassifier(params)\n",
    "    model.fit(X_train,y_train)\n",
    "    #predict the test set \n",
    "#     predictions = model.predict(X_test)\n",
    "#     acc = accuracy_score(y_test, predictions)\n",
    "    skf = StratifiedKFold(n_splits=5, shuffle=True,random_state = seed_value)\n",
    "    fscore = cross_val_score(estimator = model, X = X_train, y = y_train, cv = skf,scoring=\"f1_weighted\")\n",
    "    CrossValMean = fscore.mean()\n",
    "    print(\"Final CrossValMean: \", CrossValMean)\n",
    "    return{'loss':1-CrossValMean, 'status': STATUS_OK }\n",
    "    \n",
    "    score = 1-CrossValMean\n",
    "    run_time = timer() - start\n",
    "    # Write to the csv file ('a' means append)\n",
    "    of_connection = open(out_file, 'a')\n",
    "    writer = csv.writer(of_connection)\n",
    "    writer.writerow([CrossValMean, params, score, run_time])\n",
    "    of_connection.close()\n",
    "    print('Test accuracy:', CrossValMean)\n",
    " \n",
    "    return {'loss': score,  'status': STATUS_OK, 'train_time': run_time,}\n",
    "\n"
   ]
  },
  {
   "cell_type": "markdown",
   "metadata": {},
   "source": [
    "#### Corre Optimización con 20 itereaciones"
   ]
  },
  {
   "cell_type": "code",
   "execution_count": 8,
   "metadata": {},
   "outputs": [
    {
     "name": "stdout",
     "output_type": "stream",
     "text": [
      "Params testing:                                                                                                        \n",
      "{'alpha': 6, 'colsample_bytree': 0.38, 'gamma': 0.4, 'learning_rate': 0.42, 'max_depth': 55, 'n_estimators': 375, 'objective': 'multi:softmax', 'subsample': 1.0}\n",
      "Final CrossValMean:                                                                                                    \n",
      "0.7722048637838638                                                                                                     \n",
      "Params testing:                                                                                                        \n",
      "{'alpha': 15, 'colsample_bytree': 0.15, 'gamma': 0.45, 'learning_rate': 0.36, 'max_depth': 275, 'n_estimators': 275, 'objective': 'multi:softmax', 'subsample': 0.87}\n",
      "Final CrossValMean:                                                                                                    \n",
      "0.7723563170169495                                                                                                     \n",
      "Params testing:                                                                                                        \n",
      "{'alpha': 10, 'colsample_bytree': 0.8300000000000001, 'gamma': 0.27, 'learning_rate': 0.12, 'max_depth': 210, 'n_estimators': 350, 'objective': 'multi:softmax', 'subsample': 0.77}\n",
      "Final CrossValMean:                                                                                                    \n",
      "0.7710624581997739                                                                                                     \n",
      "Params testing:                                                                                                        \n",
      "{'alpha': 13, 'colsample_bytree': 0.84, 'gamma': 0.37, 'learning_rate': 0.34, 'max_depth': 210, 'n_estimators': 700, 'objective': 'multi:softmax', 'subsample': 0.47000000000000003}\n",
      "Final CrossValMean:                                                                                                    \n",
      "0.7719695268239364                                                                                                     \n",
      "Params testing:                                                                                                        \n",
      "{'alpha': 13, 'colsample_bytree': 0.6, 'gamma': 0.36, 'learning_rate': 0.44, 'max_depth': 250, 'n_estimators': 300, 'objective': 'multi:softmax', 'subsample': 0.11}\n",
      "Final CrossValMean:                                                                                                    \n",
      "0.7716178392281078                                                                                                     \n",
      "Params testing:                                                                                                        \n",
      "{'alpha': 13, 'colsample_bytree': 0.49, 'gamma': 0.06, 'learning_rate': 0.12, 'max_depth': 265, 'n_estimators': 650, 'objective': 'multi:softmax', 'subsample': 0.44}\n",
      "Final CrossValMean:                                                                                                    \n",
      "0.7723614121771799                                                                                                     \n",
      "Params testing:                                                                                                        \n",
      "{'alpha': 6, 'colsample_bytree': 0.39, 'gamma': 0.34, 'learning_rate': 0.56, 'max_depth': 210, 'n_estimators': 525, 'objective': 'multi:softmax', 'subsample': 0.67}\n",
      "Final CrossValMean:                                                                                                    \n",
      "0.7729120566314597                                                                                                     \n",
      "Params testing:                                                                                                        \n",
      "{'alpha': 12, 'colsample_bytree': 0.39, 'gamma': 0.15, 'learning_rate': 0.25, 'max_depth': 240, 'n_estimators': 875, 'objective': 'multi:softmax', 'subsample': 0.35000000000000003}\n",
      "Final CrossValMean:                                                                                                    \n",
      "0.7721139530770137                                                                                                     \n",
      "Params testing:                                                                                                        \n",
      "{'alpha': 14, 'colsample_bytree': 0.46, 'gamma': 0.33, 'learning_rate': 0.46, 'max_depth': 250, 'n_estimators': 300, 'objective': 'multi:softmax', 'subsample': 0.58}\n",
      "Final CrossValMean:                                                                                                    \n",
      "0.771118891345694                                                                                                      \n",
      "Params testing:                                                                                                        \n",
      "{'alpha': 12, 'colsample_bytree': 0.93, 'gamma': 0.32, 'learning_rate': 0.14, 'max_depth': 125, 'n_estimators': 225, 'objective': 'multi:softmax', 'subsample': 0.77}\n",
      "Final CrossValMean:                                                                                                    \n",
      "0.7724206791921748                                                                                                     \n",
      "Params testing:                                                                                                        \n",
      "{'alpha': 4, 'colsample_bytree': 0.84, 'gamma': 0.43, 'learning_rate': 0.13, 'max_depth': 125, 'n_estimators': 700, 'objective': 'multi:softmax', 'subsample': 0.6}\n",
      "Final CrossValMean:                                                                                                    \n",
      "0.774082301140897                                                                                                      \n",
      "Params testing:                                                                                                        \n",
      "{'alpha': 3, 'colsample_bytree': 0.88, 'gamma': 0.06, 'learning_rate': 0.21, 'max_depth': 15, 'n_estimators': 475, 'objective': 'multi:softmax', 'subsample': 0.8300000000000001}\n",
      "Final CrossValMean:                                                                                                    \n",
      "0.7739781573128249                                                                                                     \n",
      "Params testing:                                                                                                        \n",
      "{'alpha': 12, 'colsample_bytree': 0.18, 'gamma': 0.13, 'learning_rate': 0.68, 'max_depth': 85, 'n_estimators': 450, 'objective': 'multi:softmax', 'subsample': 0.19}\n",
      "Final CrossValMean:                                                                                                    \n",
      "0.7736450723910068                                                                                                     \n",
      "Params testing:                                                                                                        \n",
      "{'alpha': 0, 'colsample_bytree': 0.48, 'gamma': 0.3, 'learning_rate': 0.14, 'max_depth': 60, 'n_estimators': 50, 'objective': 'multi:softmax', 'subsample': 0.68}\n",
      "Final CrossValMean:                                                                                                    \n",
      "0.7720929984749425                                                                                                     \n",
      "Params testing:                                                                                                        \n",
      "{'alpha': 2, 'colsample_bytree': 0.49, 'gamma': 0.16, 'learning_rate': 0.29, 'max_depth': 215, 'n_estimators': 450, 'objective': 'multi:softmax', 'subsample': 0.93}\n",
      "Final CrossValMean:                                                                                                    \n",
      "0.7725105101890373                                                                                                     \n",
      "Params testing:                                                                                                        \n",
      "{'alpha': 10, 'colsample_bytree': 0.98, 'gamma': 0.36, 'learning_rate': 0.02, 'max_depth': 185, 'n_estimators': 325, 'objective': 'multi:softmax', 'subsample': 0.39}\n",
      "Final CrossValMean:                                                                                                    \n",
      "0.7733897304069645                                                                                                     \n",
      "Params testing:                                                                                                        \n",
      "{'alpha': 19, 'colsample_bytree': 0.27, 'gamma': 0.35000000000000003, 'learning_rate': 0.24, 'max_depth': 110, 'n_estimators': 500, 'objective': 'multi:softmax', 'subsample': 0.15}\n",
      "Final CrossValMean:                                                                                                    \n",
      "0.771867229724242                                                                                                      \n",
      "Params testing:                                                                                                        \n",
      "{'alpha': 9, 'colsample_bytree': 0.51, 'gamma': 0.13, 'learning_rate': 0.5700000000000001, 'max_depth': 15, 'n_estimators': 875, 'objective': 'multi:softmax', 'subsample': 0.25}\n",
      "Final CrossValMean:                                                                                                    \n",
      "0.772627698085777                                                                                                      \n",
      "Params testing:                                                                                                        \n",
      "{'alpha': 4, 'colsample_bytree': 0.19, 'gamma': 0.28, 'learning_rate': 0.15, 'max_depth': 90, 'n_estimators': 350, 'objective': 'multi:softmax', 'subsample': 0.58}\n",
      "Final CrossValMean:                                                                                                    \n",
      "0.77315445684569                                                                                                       \n",
      "Params testing:                                                                                                        \n",
      "{'alpha': 3, 'colsample_bytree': 0.35000000000000003, 'gamma': 0.39, 'learning_rate': 0.49, 'max_depth': 115, 'n_estimators': 800, 'objective': 'multi:softmax', 'subsample': 0.98}\n",
      "Final CrossValMean:                                                                                                    \n",
      "0.7717997720523405                                                                                                     \n",
      "100%|████████████████████████████████████████████| 20/20 [1:50:18<00:00, 330.92s/trial, best loss: 0.22591769885910296]\n"
     ]
    }
   ],
   "source": [
    "tpe_algorithm = tpe.suggest\n",
    "bayes_trials = Trials()\n",
    "trials = Trials()\n",
    "# Run optimization\n",
    "best = fmin(fn = objective, space = space, algo = tpe.suggest, \n",
    "            max_evals = 20, trials = bayes_trials,\n",
    "            verbose = 1, rstate= np.random.RandomState(50))\n"
   ]
  },
  {
   "cell_type": "markdown",
   "metadata": {},
   "source": [
    "#### Los mejores hiperparametros"
   ]
  },
  {
   "cell_type": "code",
   "execution_count": 18,
   "metadata": {},
   "outputs": [],
   "source": [
    "best_overxgb={'alpha': 4, 'colsample_bytree': 0.84, 'gamma': 0.43, 'learning_rate': 0.13, 'max_depth': 125, 'n_estimators': 700, 'objective': 'multi:softmax', 'subsample': 0.6}"
   ]
  }
 ],
 "metadata": {
  "kernelspec": {
   "display_name": "Python 3",
   "language": "python",
   "name": "python3"
  },
  "language_info": {
   "codemirror_mode": {
    "name": "ipython",
    "version": 3
   },
   "file_extension": ".py",
   "mimetype": "text/x-python",
   "name": "python",
   "nbconvert_exporter": "python",
   "pygments_lexer": "ipython3",
   "version": "3.7.7"
  }
 },
 "nbformat": 4,
 "nbformat_minor": 4
}
