{
 "cells": [
  {
   "cell_type": "code",
   "execution_count": 26,
   "metadata": {},
   "outputs": [],
   "source": [
    "# Importacion de paquetes necesarios\n",
    "import pandas as pd\n",
    "import numpy as np\n",
    "import csv\n",
    "import os\n",
    "from pathlib import Path\n",
    "import datetime\n",
    "from datetime import date\n",
    "import random\n",
    "\n",
    "\n",
    "from sklearn import metrics\n",
    "from sklearn.metrics import accuracy_score\n",
    "from sklearn.model_selection import train_test_split,cross_val_score\n",
    "from sklearn.model_selection import StratifiedKFold\n",
    "from xgboost import XGBClassifier\n",
    "from hyperopt import hp, fmin, tpe, hp, STATUS_OK, Trials\n",
    "from hyperopt import Trials\n",
    "from timeit import default_timer as timer\n",
    "import ml_metrics   \n",
    "\n",
    "pd.set_option('display.max_rows', 40)\n",
    "pd.set_option('display.max_columns', 500)\n",
    "pd.set_option('display.width', 1000)\n"
   ]
  },
  {
   "cell_type": "markdown",
   "metadata": {},
   "source": [
    "#### Exportamos el dataset limpio"
   ]
  },
  {
   "cell_type": "code",
   "execution_count": 27,
   "metadata": {},
   "outputs": [],
   "source": [
    "df = pd.read_csv(\"../data_predictive/clean_sold.csv\", index_col=0)\n",
    "# Splitting Features and Label\n"
   ]
  },
  {
   "cell_type": "markdown",
   "metadata": {},
   "source": [
    "#### Seteamos la Seed"
   ]
  },
  {
   "cell_type": "code",
   "execution_count": 28,
   "metadata": {},
   "outputs": [],
   "source": [
    "# Apparently you may use different seed values at each stage\n",
    "seed_value= 0\n",
    "# 1. Set `PYTHONHASHSEED` environment variable at a fixed value\n",
    "os.environ['PYTHONHASHSEED']=str(seed_value)\n",
    "# 2. Set `python` built-in pseudo-random generator at a fixed value\n",
    "random.seed(seed_value)\n",
    "# 3. Set `numpy` pseudo-random generator at a fixed value\n",
    "np.random.seed(seed_value)\n",
    "# 4. Set the `tensorflow` pseudo-random generator at a fixed value"
   ]
  },
  {
   "cell_type": "markdown",
   "metadata": {},
   "source": [
    "#### En este experimento vamos a probar Subsamplear la clase mayoritaria\n"
   ]
  },
  {
   "cell_type": "code",
   "execution_count": 8,
   "metadata": {},
   "outputs": [
    {
     "data": {
      "text/plain": [
       "<matplotlib.axes._subplots.AxesSubplot at 0x1fd2b893b48>"
      ]
     },
     "execution_count": 8,
     "metadata": {},
     "output_type": "execute_result"
    },
    {
     "data": {
      "image/png": "[encoded data removed]",
      "text/plain": [
       "<Figure size 432x288 with 1 Axes>"
      ]
     },
     "metadata": {
      "needs_background": "light"
     },
     "output_type": "display_data"
    }
   ],
   "source": [
    "df[\"sold_quantity\"].value_counts().sort_index().plot.bar()\n"
   ]
  },
  {
   "cell_type": "code",
   "execution_count": 9,
   "metadata": {},
   "outputs": [
    {
     "name": "stdout",
     "output_type": "stream",
     "text": [
      "Proporción por clase\n",
      "5       0.517713\n",
      "0       0.094993\n",
      "50      0.091236\n",
      "200     0.055879\n",
      "250     0.049314\n",
      "100     0.048435\n",
      "1       0.033772\n",
      "150     0.032411\n",
      "2       0.027414\n",
      "3       0.021383\n",
      "4       0.017145\n",
      "500     0.010149\n",
      "5000    0.000155\n",
      "Name: sold_quantity, dtype: float64\n"
     ]
    }
   ],
   "source": [
    "sold_prop = df[\"sold_quantity\"].value_counts()/len(df)\n",
    "print(\"Proporción por clase\")\n",
    "print(sold_prop)"
   ]
  },
  {
   "cell_type": "code",
   "execution_count": 10,
   "metadata": {},
   "outputs": [],
   "source": [
    "subs_df =pd.DataFrame()\n",
    "for level,prop in sold_prop.items():\n",
    "    subs_df = pd.concat([subs_df , df[df[\"sold_quantity\"] == level ].sample(frac =( 1 if prop<0.10 else 0.1 ))])"
   ]
  },
  {
   "cell_type": "markdown",
   "metadata": {},
   "source": [
    "### Las Clases estan mucho más balanceadas por el coste de perder algunos registros del dataset"
   ]
  },
  {
   "cell_type": "code",
   "execution_count": 11,
   "metadata": {},
   "outputs": [
    {
     "data": {
      "text/plain": [
       "<matplotlib.axes._subplots.AxesSubplot at 0x1fd2bc51908>"
      ]
     },
     "execution_count": 11,
     "metadata": {},
     "output_type": "execute_result"
    },
    {
     "data": {
      "image/png": "[encoded data removed]",
      "text/plain": [
       "<Figure size 432x288 with 1 Axes>"
      ]
     },
     "metadata": {
      "needs_background": "light"
     },
     "output_type": "display_data"
    }
   ],
   "source": [
    "subs_df[\"sold_quantity\"].value_counts().sort_index().plot.bar()\n"
   ]
  },
  {
   "cell_type": "code",
   "execution_count": 12,
   "metadata": {},
   "outputs": [
    {
     "name": "stdout",
     "output_type": "stream",
     "text": [
      "Proporción por clase\n",
      "0       0.177867\n",
      "50      0.170834\n",
      "200     0.104630\n",
      "5       0.096951\n",
      "250     0.092337\n",
      "100     0.090692\n",
      "1       0.063236\n",
      "150     0.060687\n",
      "2       0.051331\n",
      "3       0.040039\n",
      "4       0.032102\n",
      "500     0.019003\n",
      "5000    0.000290\n",
      "Name: sold_quantity, dtype: float64\n"
     ]
    }
   ],
   "source": [
    "sold_prop = subs_df[\"sold_quantity\"].value_counts()/len(subs_df)\n",
    "print(\"Proporción por clase\")\n",
    "print(sold_prop)"
   ]
  },
  {
   "cell_type": "markdown",
   "metadata": {},
   "source": [
    "#### Partición al 70% del dataset subsampleada compuesto con 40000 registros"
   ]
  },
  {
   "cell_type": "code",
   "execution_count": 15,
   "metadata": {},
   "outputs": [],
   "source": [
    "y = df[\"sold_quantity\"]\n",
    "X = df.drop([\"sold_quantity\"],axis=1)\n",
    "\n",
    "X_train, X_test, y_train, y_test = train_test_split(X, y, train_size=0.7,random_state = seed_value)"
   ]
  },
  {
   "cell_type": "code",
   "execution_count": 16,
   "metadata": {},
   "outputs": [],
   "source": [
    "exp_name = 'test_exp'\n",
    "folder = 'Resultados/' + exp_name\n",
    "my_file = Path(folder)\n",
    "if os.path.exists(my_file):\n",
    "    print('already exists')\n",
    "else:\n",
    "    os.makedirs(folder)\n",
    "\n",
    "out_file = folder + '/subxgb_results.csv'\n",
    "of_connection = open(out_file, 'w')"
   ]
  },
  {
   "cell_type": "code",
   "execution_count": null,
   "metadata": {},
   "outputs": [],
   "source": [
    "#### Espacio de busqueda de los hiperparametros del XGB"
   ]
  },
  {
   "cell_type": "code",
   "execution_count": 17,
   "metadata": {},
   "outputs": [],
   "source": [
    "space = {\n",
    "    'learning_rate' : hp.quniform('learning_rate', 0.01, 0.7, 0.01),\n",
    "    'colsample_bytree' : hp.quniform('colsample_bytree', 0.1, 1.0, 0.01),\n",
    "    'n_estimators' : hp.choice('n_estimators', range(50,1000,50)),\n",
    "    'alpha' : hp.choice('alpha', range(0,20)),\n",
    "    'gamma' : hp.quniform('gamma', 0, 0.5, 0.01),\n",
    "    'max_depth' : hp.choice('max_depth', range(5, 300, 5)),\n",
    "    'subsample' : hp.quniform('subsample', 0.1, 1, 0.01)\n",
    "    }\n"
   ]
  },
  {
   "cell_type": "code",
   "execution_count": 21,
   "metadata": {},
   "outputs": [],
   "source": [
    "#Objective function that hyperopt will minimize\n",
    "\n",
    "def objective(params):\n",
    "    start = timer()\n",
    "    print ('Params testing: ', params)\n",
    "    print ('\\n ')\n",
    "\n",
    "    model = XGBClassifier(params)\n",
    "    #predict the test set \n",
    "#     predictions = model.predict(X_test)\n",
    "#     acc = accuracy_score(y_test, predictions)\n",
    "    skf = StratifiedKFold(n_splits=3, shuffle=True,random_state = seed_value)\n",
    "    fscore = cross_val_score(estimator = model, X = X_train, y = y_train, cv = skf,scoring=\"f1_weighted\")\n",
    "    CrossValMean = fscore.mean()\n",
    "    print(\"Final CrossValMean: \", CrossValMean)\n",
    "    return{'loss':1-CrossValMean, 'status': STATUS_OK }\n",
    "    \n",
    "    score = 1-CrossValMean\n",
    "    run_time = timer() - start\n",
    "    # Write to the csv file ('a' means append)\n",
    "    of_connection = open(out_file, 'a')\n",
    "    writer = csv.writer(of_connection)\n",
    "    writer.writerow([CrossValMean, params, score, run_time])\n",
    "    of_connection.close()\n",
    "    print('Test accuracy:', CrossValMean)\n",
    " \n",
    "    return {'loss': score,  'status': STATUS_OK, 'train_time': run_time,}\n",
    "\n"
   ]
  },
  {
   "cell_type": "code",
   "execution_count": 22,
   "metadata": {},
   "outputs": [
    {
     "name": "stdout",
     "output_type": "stream",
     "text": [
      "Params testing:                                                                                                        \n",
      "{'alpha': 6, 'colsample_bytree': 0.38, 'gamma': 0.4, 'learning_rate': 0.42, 'max_depth': 55, 'n_estimators': 700, 'subsample': 1.0}\n",
      "Final CrossValMean:                                                                                                    \n",
      "0.7323192765513019                                                                                                     \n",
      "Params testing:                                                                                                        \n",
      "{'alpha': 15, 'colsample_bytree': 0.15, 'gamma': 0.45, 'learning_rate': 0.36, 'max_depth': 275, 'n_estimators': 500, 'subsample': 0.87}\n",
      "Final CrossValMean:                                                                                                    \n",
      "0.7323192765513019                                                                                                     \n",
      "Params testing:                                                                                                        \n",
      "{'alpha': 10, 'colsample_bytree': 0.8300000000000001, 'gamma': 0.27, 'learning_rate': 0.12, 'max_depth': 210, 'n_estimators': 650, 'subsample': 0.77}\n",
      "Final CrossValMean:                                                                                                    \n",
      "0.7323192765513019                                                                                                     \n",
      "Params testing:                                                                                                        \n",
      "{'alpha': 13, 'colsample_bytree': 0.46, 'gamma': 0.14, 'learning_rate': 0.13, 'max_depth': 90, 'n_estimators': 500, 'subsample': 0.47000000000000003}\n",
      "Final CrossValMean:                                                                                                    \n",
      "0.7323192765513019                                                                                                     \n",
      "Params testing:                                                                                                        \n",
      "{'alpha': 1, 'colsample_bytree': 0.55, 'gamma': 0.0, 'learning_rate': 0.15, 'max_depth': 55, 'n_estimators': 550, 'subsample': 0.11}\n",
      "Final CrossValMean:                                                                                                    \n",
      "0.7323192765513019                                                                                                     \n",
      "100%|██████████████████████████████████████████████████| 5/5 [07:48<00:00, 93.60s/trial, best loss: 0.2676807234486981]\n"
     ]
    }
   ],
   "source": [
    "tpe_algorithm = tpe.suggest\n",
    "bayes_trials = Trials()\n",
    "trials = Trials()\n",
    "\n",
    "# Run optimization\n",
    "best = fmin(fn = objective, space = space, algo = tpe.suggest, \n",
    "            max_evals = 5, trials = bayes_trials,\n",
    "            verbose = 1, rstate= np.random.RandomState(50))\n"
   ]
  },
  {
   "cell_type": "markdown",
   "metadata": {},
   "source": [
    "#### Los mejores hiperparametros:"
   ]
  },
  {
   "cell_type": "code",
   "execution_count": 29,
   "metadata": {},
   "outputs": [],
   "source": [
    "best_subxgb= {'alpha': 13, 'colsample_bytree': 0.46, 'gamma': 0.14, 'learning_rate': 0.13, 'max_depth': 90, 'n_estimators': 500, 'subsample': 0.47000000000000003}"
   ]
  },
  {
   "cell_type": "code",
   "execution_count": null,
   "metadata": {},
   "outputs": [],
   "source": []
  }
 ],
 "metadata": {
  "kernelspec": {
   "display_name": "Python 3",
   "language": "python",
   "name": "python3"
  },
  "language_info": {
   "codemirror_mode": {
    "name": "ipython",
    "version": 3
   },
   "file_extension": ".py",
   "mimetype": "text/x-python",
   "name": "python",
   "nbconvert_exporter": "python",
   "pygments_lexer": "ipython3",
   "version": "3.7.7"
  }
 },
 "nbformat": 4,
 "nbformat_minor": 4
}
