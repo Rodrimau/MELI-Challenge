{
 "cells": [
  {
   "cell_type": "code",
   "execution_count": 26,
   "metadata": {},
   "outputs": [],
   "source": [
    "# Importacion de paquetes necesarios\n",
    "import pandas as pd\n",
    "import numpy as np\n",
    "import csv\n",
    "import os\n",
    "from pathlib import Path\n",
    "import datetime\n",
    "from datetime import date\n",
    "from imblearn.over_sampling import SMOTE\n",
    "import random\n",
    "\n",
    "\n",
    "from sklearn import metrics\n",
    "from sklearn.metrics import accuracy_score\n",
    "from sklearn.model_selection import train_test_split,cross_val_score\n",
    "from sklearn.model_selection import StratifiedKFold\n",
    "from sklearn.ensemble import RandomForestClassifier\n",
    "\n",
    "from hyperopt import hp, fmin, tpe, hp, STATUS_OK, Trials\n",
    "from hyperopt import Trials\n",
    "from timeit import default_timer as timer\n",
    "import ml_metrics   \n",
    "\n",
    "pd.set_option('display.max_rows', 40)\n",
    "pd.set_option('display.max_columns', 500)\n",
    "pd.set_option('display.width', 1000)\n"
   ]
  },
  {
   "cell_type": "markdown",
   "metadata": {},
   "source": [
    "#### Exportamos el dataset limpio"
   ]
  },
  {
   "cell_type": "code",
   "execution_count": 27,
   "metadata": {},
   "outputs": [],
   "source": [
    "df = pd.read_csv(\"../data_predictive/clean_sold.csv\", index_col=0)\n"
   ]
  },
  {
   "cell_type": "markdown",
   "metadata": {},
   "source": [
    "#### Seteamos la Seed"
   ]
  },
  {
   "cell_type": "code",
   "execution_count": 28,
   "metadata": {},
   "outputs": [],
   "source": [
    "#### Apparently you may use different seed values at each stage\n",
    "seed_value= 0\n",
    "# 1. Set `PYTHONHASHSEED` environment variable at a fixed value\n",
    "os.environ['PYTHONHASHSEED']=str(seed_value)\n",
    "# 2. Set `python` built-in pseudo-random generator at a fixed value\n",
    "random.seed(seed_value)\n",
    "# 3. Set `numpy` pseudo-random generator at a fixed value\n",
    "np.random.seed(seed_value)\n",
    "# 4. Set the `tensorflow` pseudo-random generator at a fixed value"
   ]
  },
  {
   "cell_type": "markdown",
   "metadata": {},
   "source": [
    "#### Hacemos un subsampleo de la clase mayoritaria para balancear las proporciones de cada categoria a predecir."
   ]
  },
  {
   "cell_type": "code",
   "execution_count": 4,
   "metadata": {},
   "outputs": [],
   "source": [
    "y = df[\"sold_quantity\"]\n",
    "X = df.drop([\"sold_quantity\"],axis=1)\n",
    "\n",
    "smote = SMOTE()\n",
    "X_sm, y_sm = smote.fit_sample(X, y)\n",
    "\n",
    "X_sm_sample = X_sm.sample(frac=0.3)\n",
    "y_sm_sample = y_sm[X_sm_sample.index]\n",
    "\n",
    "X_train, X_test, y_train, y_test = train_test_split(X_sm_sample, y_sm_sample, train_size=0.7)"
   ]
  },
  {
   "cell_type": "code",
   "execution_count": 5,
   "metadata": {},
   "outputs": [
    {
     "name": "stdout",
     "output_type": "stream",
     "text": [
      "already exists\n"
     ]
    }
   ],
   "source": [
    "exp_name = 'test_exp'\n",
    "folder = 'Resultados/' + exp_name\n",
    "my_file = Path(folder)\n",
    "if os.path.exists(my_file):\n",
    "    print('already exists')\n",
    "else:\n",
    "    os.makedirs(folder)\n",
    "\n",
    "out_file = folder + '/overrf_results.csv'\n",
    "of_connection = open(out_file, 'w')"
   ]
  },
  {
   "cell_type": "code",
   "execution_count": 22,
   "metadata": {},
   "outputs": [],
   "source": [
    "space = {\"criterion\" : hp.choice('criterion', [\"gini\", \"entropy\"]),\n",
    "     \"max_features\"  : hp.choice('max_features', ['sqrt','log2',0.2,0.5,0.8]),\n",
    "    'colsample_bytree' : hp.quniform('colsample_bytree', 0.1, 1.0, 0.01),\n",
    "    'n_estimators' : hp.choice('n_estimators', range(50,700,50)),\n",
    "    'bootstrap' : hp.choice('bootstrap',[True,False]),\n",
    "    'gamma' : hp.quniform('gamma', 0, 0.5, 0.01),\n",
    "    'max_depth' : hp.choice('max_depth', range(5, 300, 30)),\n",
    "    'subsample' : hp.quniform('subsample', 0.1, 1, 0.01)\n",
    "    }\n"
   ]
  },
  {
   "cell_type": "code",
   "execution_count": 23,
   "metadata": {},
   "outputs": [],
   "source": [
    "#Objective function that hyperopt will minimize\n",
    "from timeit import default_timer as timer\n",
    "import ml_metrics   \n",
    "\n",
    "def objective(params):\n",
    "    start = timer()\n",
    "    print ('Params testing: ', params)\n",
    "    print ('\\n ')\n",
    "    \n",
    "    n_estimators = params[\"n_estimators\"]\n",
    "    max_depth = params[\"max_depth\"]\n",
    "    bootstrap = params[\"bootstrap\"]\n",
    "    criterion = params[\"criterion\"]\n",
    "    max_features = params[\"max_features\"]\n",
    "\n",
    "    model = RandomForestClassifier(n_estimators= n_estimators, max_depth=max_depth,bootstrap=bootstrap,\n",
    "                                 criterion=criterion,max_features=max_features)\n",
    "#     model.fit(X_train,y_train)\n",
    "    #predict the test set \n",
    "#     predictions = model.predict(X_test)\n",
    "#     acc = accuracy_score(y_test, predictions)\n",
    "    skf = StratifiedKFold(n_splits=3, shuffle=True)\n",
    "    fscore = cross_val_score(estimator = model, X = X_train, y = y_train, cv = skf)\n",
    "    CrossValMean = fscore.mean()\n",
    "    print(\"Final CrossValMean: \", CrossValMean)\n",
    "    return{'loss':1-CrossValMean, 'status': STATUS_OK }\n",
    "    \n",
    "    score = 1-CrossValMean\n",
    "    run_time = timer() - start\n",
    "    # Write to the csv file ('a' means append)\n",
    "    of_connection = open(out_file, 'a')\n",
    "    writer = csv.writer(of_connection)\n",
    "    writer.writerow([CrossValMean, params, score, run_time])\n",
    "    of_connection.close()\n",
    "    print('Test accuracy:', CrossValMean)\n",
    " \n",
    "    return {'loss': score,  'status': STATUS_OK, 'train_time': run_time,}\n",
    "\n"
   ]
  },
  {
   "cell_type": "code",
   "execution_count": 25,
   "metadata": {},
   "outputs": [
    {
     "name": "stdout",
     "output_type": "stream",
     "text": [
      "Params testing:                                                                                                        \n",
      "{'bootstrap': True, 'colsample_bytree': 0.55, 'criterion': 'gini', 'gamma': 0.4, 'max_depth': 275, 'max_features': 'log2', 'n_estimators': 550, 'subsample': 1.0}\n",
      "Final CrossValMean:                                                                                                    \n",
      "0.849655605990642                                                                                                      \n",
      "Params testing:                                                                                                        \n",
      "{'bootstrap': True, 'colsample_bytree': 0.48, 'criterion': 'gini', 'gamma': 0.06, 'max_depth': 215, 'max_features': 'log2', 'n_estimators': 500, 'subsample': 0.87}\n",
      "Final CrossValMean:                                                                                                    \n",
      "0.849277673920009                                                                                                      \n",
      "Params testing:                                                                                                        \n",
      "{'bootstrap': False, 'colsample_bytree': 0.3, 'criterion': 'entropy', 'gamma': 0.08, 'max_depth': 275, 'max_features': 0.5, 'n_estimators': 650, 'subsample': 0.77}\n",
      "Final CrossValMean:                                                                                                    \n",
      "0.8336848420227866                                                                                                     \n",
      "Params testing:                                                                                                        \n",
      "{'bootstrap': False, 'colsample_bytree': 0.84, 'criterion': 'entropy', 'gamma': 0.08, 'max_depth': 35, 'max_features': 'log2', 'n_estimators': 550, 'subsample': 0.47000000000000003}\n",
      "Final CrossValMean:                                                                                                    \n",
      "0.8616153739116047                                                                                                     \n",
      "Params testing:                                                                                                        \n",
      "{'bootstrap': False, 'colsample_bytree': 0.55, 'criterion': 'gini', 'gamma': 0.31, 'max_depth': 35, 'max_features': 0.2, 'n_estimators': 550, 'subsample': 0.11}\n",
      "Final CrossValMean:                                                                                                    \n",
      "0.8641145970863143                                                                                                     \n",
      "100%|██████████████████████████████████████████████| 5/5 [1:13:01<00:00, 876.35s/trial, best loss: 0.13588540291368567]\n"
     ]
    }
   ],
   "source": [
    "tpe_algorithm = tpe.suggest\n",
    "bayes_trials = Trials()\n",
    "trials = Trials()\n",
    "\n",
    "# Run optimization\n",
    "best = fmin(fn = objective, space = space, algo = tpe.suggest, \n",
    "            max_evals = 5, trials = bayes_trials,\n",
    "            verbose = 1, rstate= np.random.RandomState(50))\n"
   ]
  },
  {
   "cell_type": "code",
   "execution_count": 30,
   "metadata": {},
   "outputs": [],
   "source": [
    "best_overf= {'bootstrap': False,'criterion': 'gini','max_depth': 35, 'max_features': 0.2, 'n_estimators': 550}"
   ]
  }
 ],
 "metadata": {
  "kernelspec": {
   "display_name": "Python 3",
   "language": "python",
   "name": "python3"
  },
  "language_info": {
   "codemirror_mode": {
    "name": "ipython",
    "version": 3
   },
   "file_extension": ".py",
   "mimetype": "text/x-python",
   "name": "python",
   "nbconvert_exporter": "python",
   "pygments_lexer": "ipython3",
   "version": "3.7.7"
  }
 },
 "nbformat": 4,
 "nbformat_minor": 4
}
