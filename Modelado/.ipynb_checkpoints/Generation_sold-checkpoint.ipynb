{
 "cells": [
  {
   "cell_type": "markdown",
   "metadata": {},
   "source": [
    "# Generación de Datasets para el Modeo predictivo"
   ]
  },
  {
   "cell_type": "code",
   "execution_count": 1,
   "metadata": {},
   "outputs": [],
   "source": [
    "# Importacion de paquetes necesarios\n",
    "import requests\n",
    "import json\n",
    "import pandas as pd\n",
    "import os\n",
    "import datetime\n",
    "from pandas.core.common import flatten\n",
    "from nltk.corpus import stopwords\n",
    "import pandas as pd\n",
    "from pandas.core.common import flatten\n",
    "from sklearn.model_selection import train_test_split,cross_val_score\n",
    "from sklearn.ensemble import RandomForestClassifier,RandomForestRegressor\n",
    "from sklearn.metrics import accuracy_score\n",
    "import datetime\n",
    "import numpy as np\n",
    "pd.set_option('display.max_rows', 40)\n",
    "pd.set_option('display.max_columns', 500)\n",
    "pd.set_option('display.width', 1000)"
   ]
  },
  {
   "cell_type": "markdown",
   "metadata": {},
   "source": [
    "#### En archivo config.json tengo los datos de condifiguración para generar el ACCESS_TOKEN, necesario para hacer las querys"
   ]
  },
  {
   "cell_type": "code",
   "execution_count": 2,
   "metadata": {},
   "outputs": [],
   "source": [
    "try:\n",
    "    with open('../config/config.json') as file:\n",
    "        settings = json.load(file)\n",
    "except Exception as e:\n",
    "    print(e)\n",
    "    \n",
    "APP_ID= settings[\"APP_ID\"]\n",
    "SECRET_KEY= settings[\"SECRET_KEY\"]\n",
    "REDIRECT_URI= settings[\"REDIRECT_URI\"]\n"
   ]
  },
  {
   "cell_type": "markdown",
   "metadata": {},
   "source": [
    "#### Accediendo a este Link obtengo el SERVER_GENERATED_AUTHORIZATION_CODE que se agrega al archivo de configuración para luego hacer "
   ]
  },
  {
   "cell_type": "code",
   "execution_count": 3,
   "metadata": {},
   "outputs": [
    {
     "data": {
      "text/plain": [
       "'http://auth.mercadolibre.com.ar/authorization?response_type=code&client_id=4736838571701537&redirect_uri=https://www.google.com/'"
      ]
     },
     "execution_count": 3,
     "metadata": {},
     "output_type": "execute_result"
    }
   ],
   "source": [
    "(f\"http://auth.mercadolibre.com.ar/authorization?response_type=code&client_id={APP_ID}&redirect_uri={REDIRECT_URI}\")\n"
   ]
  },
  {
   "cell_type": "code",
   "execution_count": null,
   "metadata": {},
   "outputs": [],
   "source": [
    "SERVER_GENERATED_AUTHORIZATION_CODE= \"TG-5f258aab236b3c00066563de-46180769\"\n",
    "response = requests.post(url = f\"https://api.mercadolibre.com/oauth/token?grant_type=authorization_code&client_id={APP_ID}&client_secret={SECRET_KEY}&code={SERVER_GENERATED_AUTHORIZATION_CODE}&redirect_uri={REDIRECT_URI}\")\n",
    "item = json.loads(response.content)\n",
    "print(item)\n",
    "ACCESS_TOKEN = item[\"access_token\"]\n"
   ]
  },
  {
   "cell_type": "code",
   "execution_count": null,
   "metadata": {},
   "outputs": [],
   "source": [
    "category = requests.get(\"https://api.mercadolibre.com/sites/MLA/categories\")\n",
    "category = json.loads(category.content)\n",
    "category_id =[x[\"id\"] for x in category]"
   ]
  },
  {
   "cell_type": "markdown",
   "metadata": {},
   "source": [
    "#### Para el modelo predictivo se asume que se va a querer predecir los articulos más relevantes por mercado libre que aparecerian al principio de las busquedas y por lo tanto tambien aparecen usando el servicio https://api.mercadolibre.com/sites/MLA/search?category=. Entonces se llamaran 10000 busquedas por categoría para luego samplear un 20% del total. Este servicio no entrega los features más relevantes para el modelo predictivo como todas las fechas relacionadas a la creación , actualización y cierre de la publicación, por lo que se usaran estos IDs para aplicar en el servicio de búsqueda por IDs."
   ]
  },
  {
   "cell_type": "code",
   "execution_count": null,
   "metadata": {},
   "outputs": [],
   "source": [
    "sample= []\n",
    "folder = \"data_predictive\"\n",
    "os.makedirs(\"data_predictive\", exist_ok=True)\n",
    "for categ_id in category_id:\n",
    "    print(categ_id)\n",
    "    for offset in range(0, 10000 ,50):\n",
    "        query = requests.get(f\"https://api.mercadolibre.com/sites/MLA/search?category={categ_id}&offset={offset}&access_token={ACCESS_TOKEN}\")\n",
    "        item = json.loads(query.content)[\"results\"]\n",
    "        [x.update({\"category_id\":categ_id}) for x in item]\n",
    "        sample = item + sample\n",
    "with open(os.path.join(folder , 'sold_ids.json'), 'w') as fp:\n",
    "    json.dump(sample, fp)"
   ]
  },
  {
   "cell_type": "code",
   "execution_count": 19,
   "metadata": {},
   "outputs": [],
   "source": [
    "folder = \"data_predictive\"\n",
    "with open(os.path.join(folder , 'sold.json'), 'r') as fp:\n",
    "    sold = json.load(fp)\n",
    "df = pd.Series([x[\"id\"] for x in sold])"
   ]
  },
  {
   "cell_type": "markdown",
   "metadata": {},
   "source": [
    "#### Sampleamos un 20% de esos IDs de publicaciones más relevantes y usamos el servicio https://api.mercadolibre.com/items/ID para encontrar los datos más relevantes para predecir la cantidad vendidad."
   ]
  },
  {
   "cell_type": "code",
   "execution_count": 14,
   "metadata": {},
   "outputs": [],
   "source": [
    "df_sample = df.sample(frac = 0.2, random_state = 1)\n"
   ]
  },
  {
   "cell_type": "code",
   "execution_count": 16,
   "metadata": {},
   "outputs": [
    {
     "name": "stdout",
     "output_type": "stream",
     "text": [
      "0 MLA833724782\n",
      "5000 MLA862591091\n",
      "10000 MLA811171228\n",
      "15000 MLA823511152\n",
      "20000 MLA870881965\n",
      "25000 MLA762116528\n",
      "30000 MLA745143539\n",
      "35000 MLA642843152\n",
      "40000 MLA865456284\n",
      "45000 MLA838258439\n",
      "50000 MLA659132409\n",
      "55000 MLA840325531\n",
      "60000 MLA829434263\n"
     ]
    }
   ],
   "source": [
    "new_features = []\n",
    "item_atri = {}\n",
    "for n,i in enumerate(df_sample[\"id\"]):\n",
    "    if n%5000 == 0:\n",
    "        print(n,i)\n",
    "    query = requests.get(f\"https://api.mercadolibre.com/items/{i}\")\n",
    "    item = json.loads(query.content)\n",
    "    new_features.append(item)\n",
    "with open(os.path.join(folder , 'sold_dfj.json'), 'w') as fp:\n",
    "    json.dump(new_features, fp)"
   ]
  },
  {
   "cell_type": "markdown",
   "metadata": {},
   "source": [
    "#### Guardamos el las 60000 filas de nuestro dataframe para predecir la cantidad vendidas.\n",
    "#### Procedemos a hacer las transformaciones básicas para que nuestro dataset pueda ser interpretado por un algoritmo."
   ]
  },
  {
   "cell_type": "code",
   "execution_count": 103,
   "metadata": {},
   "outputs": [],
   "source": [
    "folder = \"data_predictive\"\n",
    "with open(os.path.join(folder , 'sold_dfj.json'), 'r') as fp:\n",
    "    sold = json.load(fp)"
   ]
  },
  {
   "cell_type": "code",
   "execution_count": 104,
   "metadata": {},
   "outputs": [],
   "source": [
    "def mowing_json(dict_input): # Descartamos ramas del json que no son de interes en el analisis.\n",
    "    dict_mowing  = dict_input.copy()\n",
    "    dict_mowing.pop(\"attributes\", None)\n",
    "    dict_mowing.pop(\"pictures\", None)\n",
    "    dict_mowing.pop(\"permalink\", None)\n",
    "    dict_mowing.pop(\"variations\", None)\n",
    "    dict_mowing.pop(\"thumbnail\", None)\n",
    "    dict_mowing.pop(\"sale_terms\", None)\n",
    "    dict_mowing.pop(\"secure_thumbnail\", None)\n",
    "    dict_mowing.pop(\"video_id\", None)\n",
    "    dict_mowing.pop(\"subtitle\", None)\n",
    "    dict_mowing.pop(\"site_id\", None)\n",
    "    dict_mowing.pop(\"seller_address\", None)\n",
    "    dict_mowing.pop(\"official_store_id\", None)\n",
    "    dict_mowing.pop(\"warnings\", None)\n",
    "    dict_mowing.pop(\"seller_contact\", None)\n",
    "    dict_mowing.pop(\"international_delivery_mode\", None)\n",
    "    dict_mowing.pop(\"sub_status\", None)\n",
    "    dict_mowing.pop(\"catalog_product_id\", None)\n",
    "    dict_mowing.pop(\"parent_item_id\", None)\n",
    "    dict_mowing.pop(\"differential_pricing\", None)\n",
    "    dict_mowing.pop(\"listing_source\", None)\n",
    "    dict_mowing.pop(\"location\", None)\n",
    "    dict_mowing.pop(\"non_mercado_pago_payment_methods\", None)\n",
    "    dict_mowing.pop(\"coverage_areas\", None)\n",
    "    dict_mowing.pop(\"deal_ids\", None)\n",
    "    dict_mowing.pop(\"seller_id\", None)\n",
    "    dict_mowing.pop(\"descriptions\", None)\n",
    "\n",
    "\n",
    "    return dict_mowing\n",
    "df_json = [mowing_json(x) for x in sold] # Aplica funcon de podado en Json\n",
    "df = pd.json_normalize(df_json,sep=\"_\") # Transformo Json a DataFrame\n",
    "df = df.infer_objects()  # Inferimos el mejor tipo de dato para la columna\n",
    "df = df.replace('', np.nan) # Reemplazo espacios vacios por NaN"
   ]
  },
  {
   "cell_type": "markdown",
   "metadata": {},
   "source": [
    "#### Convertimos las variables categoricas con jerarquia con un label encoder que mantenga el orden jerarquico entre los niveles\n",
    "#### Las variables que no tienen una repesetenación jerarquica son convertidas en variables dummies booleanas.\n",
    "#### Imputamos algunos valores faltantes y eliminamos "
   ]
  },
  {
   "cell_type": "code",
   "execution_count": 105,
   "metadata": {},
   "outputs": [],
   "source": [
    "df[\"listing_type_id\"] =df[\"listing_type_id\"].map({'gold_special':6, 'gold_premium': 5, \"gold_pro\": 4,'gold':3, 'silver': 2, \"bronze\": 1,\"free\": 1})\n",
    "df = pd.concat([df.drop('buying_mode', axis=1), pd.get_dummies(df['buying_mode'], prefix=\"bmode_\")], axis=1)\n",
    "df = pd.concat([df.drop('currency_id', axis=1), pd.get_dummies(df['currency_id'], prefix=\"currency_\")], axis=1)\n",
    "df = pd.concat([df.drop('shipping_logistic_type', axis=1), pd.get_dummies(df['shipping_logistic_type'], prefix=\"slog_\")], axis=1)\n",
    "df = pd.concat([df.drop('shipping_mode', axis=1), pd.get_dummies(df['shipping_mode'], prefix=\"smd_\")], axis=1)\n",
    "df = pd.concat([df.drop('status', axis=1), pd.get_dummies(df['status'])], axis=1)\n",
    "df = pd.concat([df.drop('condition', axis=1), pd.get_dummies(df['condition'])], axis=1)\n",
    "\n",
    "df[\"health\"].fillna(df[\"health\"].mean(),inplace=True)\n",
    "df[\"original_price\"].fillna(0,inplace=True)\n",
    "df[\"geolocation_latitude\"].fillna(0,inplace=True)\n",
    "df[\"geolocation_longitude\"].fillna(0,inplace=True)\n",
    "df = df.drop(df[df[\"available_quantity\"].isnull()].index)\n"
   ]
  },
  {
   "cell_type": "markdown",
   "metadata": {},
   "source": [
    "#### Las variables relacionadas al tiempo se las transforma a la cantidad de días de diferencia con respecto al día en que se generaron las consultas. Es importante entender que la variable Sold va a depender del tiempo en que se decida predecir una publicación. Consecuentes predicccions realizadas sobre una publicación a lo largo del tiempo deben dar resultados distintos dado que una publicación solo va a aumentar la cantidad de articulos vendidos. En el caso que se quiera predecir articulos en producción hay que transformar estas variables acorde con la fecha en que se consultaron en la API."
   ]
  },
  {
   "cell_type": "code",
   "execution_count": 106,
   "metadata": {},
   "outputs": [],
   "source": [
    "datetime_features = [\"start_time\",\"stop_time\",\"last_updated\",\"date_created\"]\n",
    "call_date = datetime.datetime(2020, 8,1)\n",
    "for feat in datetime_features:\n",
    "    df[feat] = pd.to_datetime(df[feat], utc=True).dt.tz_localize(None)\n",
    "    df[f\"{feat}_days\"] = (df[feat]- call_date).apply(lambda x : x.days)\n",
    "df.drop(datetime_features, axis= 1 ,inplace =True, errors='ignore')\n",
    "\n",
    "stopwords_es =  stopwords.words('spanish')\n",
    "def title2word( title):\n",
    "    return len(([x for x in title.strip().lower().split(\" \") if x not in stopwords_es]))\n",
    "df[\"title_words\"] = df[\"title\"].apply(title2word)\n",
    "df = df.drop(df[df.duplicated(subset=['id'],keep=\"first\")].index)"
   ]
  },
  {
   "cell_type": "markdown",
   "metadata": {},
   "source": [
    "#### Tambien eliminamos variables que no van a aportar mucho valor a las predicciones"
   ]
  },
  {
   "cell_type": "code",
   "execution_count": 107,
   "metadata": {},
   "outputs": [],
   "source": [
    "df[\"tags\"] = df[\"tags\"].apply(len)\n",
    "df[\"shipping_tags\"] = df[\"shipping_tags\"].apply(len)"
   ]
  },
  {
   "cell_type": "code",
   "execution_count": 108,
   "metadata": {},
   "outputs": [],
   "source": [
    "df=df.drop([\"tags\",\"domain_id\",\"shipping_tags\",\"id\",\"title\",\"warranty\",\"category_id\",\"shipping_dimensions\",\"shipping_methods\",\"shipping_free_methods\"],axis=1,errors=\"ignore\")\n",
    "df = df.drop(df[df[\"price\"].isnull()].index)"
   ]
  },
  {
   "cell_type": "markdown",
   "metadata": {},
   "source": [
    "#### Se decidio categorizar la variable a predecir dado que el servicio de API https://api.mercadolibre.com/sites/MLA/search?category= encuadra la cantidad vendidda dentro de estos rangos:"
   ]
  },
  {
   "cell_type": "code",
   "execution_count": 109,
   "metadata": {},
   "outputs": [],
   "source": [
    "def categ_sold(x):\n",
    "    if 5<= x<=50:\n",
    "        x=5\n",
    "    elif 51<= x<=100:\n",
    "        x=50\n",
    "    elif 101<= x<=150:\n",
    "        x=100\n",
    "    elif 151<= x<=200:\n",
    "        x=150\n",
    "    elif 201<= x<=250:\n",
    "        x=200\n",
    "    elif 251<= x<=500:\n",
    "        x=250    \n",
    "    elif 501<= x<=5000:\n",
    "        x=500    \n",
    "    elif 5001<= x<=50000:\n",
    "        x=5000      \n",
    "    return x"
   ]
  },
  {
   "cell_type": "code",
   "execution_count": 110,
   "metadata": {},
   "outputs": [],
   "source": [
    "df[\"sold_quantity\"]=df[\"sold_quantity\"].apply(lambda x: categ_sold(x)).astype(\"int\")\n",
    "df.reset_index(inplace=True,drop=True)"
   ]
  },
  {
   "cell_type": "markdown",
   "metadata": {},
   "source": [
    "#### Verificamos la distribución de la variable a predecir y notamos que hay un gran desbalance entre las distintas clases, especialmente la clase de mayoritaria que representan el 50% de los valores. Mantegamos este valor en mente como la predicción dummy que uno podría llegar a hacer"
   ]
  },
  {
   "cell_type": "code",
   "execution_count": 35,
   "metadata": {},
   "outputs": [
    {
     "data": {
      "text/plain": [
       "<matplotlib.axes._subplots.AxesSubplot at 0x21045380b08>"
      ]
     },
     "execution_count": 35,
     "metadata": {},
     "output_type": "execute_result"
    },
    {
     "data": {
      "image/png": "[encoded data removed]",
      "text/plain": [
       "<Figure size 432x288 with 1 Axes>"
      ]
     },
     "metadata": {
      "needs_background": "light"
     },
     "output_type": "display_data"
    }
   ],
   "source": [
    "df[\"sold_quantity\"].value_counts().sort_index().plot.bar()"
   ]
  },
  {
   "cell_type": "markdown",
   "metadata": {},
   "source": [
    "#### Guardamos nuestro Dataset"
   ]
  },
  {
   "cell_type": "code",
   "execution_count": 11,
   "metadata": {},
   "outputs": [],
   "source": [
    "df[[\"initial_quantity\",\"available_quantity\"]] =  df[[\"initial_quantity\",\"available_quantity\"]].astype(\"int\")\n",
    "df.to_csv(\"data_predictive/clean_sold.csv\")"
   ]
  },
  {
   "cell_type": "markdown",
   "metadata": {},
   "source": [
    "### Hacemos una predicción sin optimización en default para testear que valores podemos encontrarnos."
   ]
  },
  {
   "cell_type": "code",
   "execution_count": null,
   "metadata": {},
   "outputs": [],
   "source": [
    "y = df[\"sold_quantity\"]\n",
    "X = df.drop([\"sold_quantity\"],axis=1)\n",
    "X_train, X_test, y_train, y_test = train_test_split(X, y, train_size=0.7)"
   ]
  },
  {
   "cell_type": "code",
   "execution_count": 13,
   "metadata": {},
   "outputs": [
    {
     "data": {
      "text/plain": [
       "RandomForestClassifier()"
      ]
     },
     "execution_count": 13,
     "metadata": {},
     "output_type": "execute_result"
    }
   ],
   "source": [
    "rf = RandomForestClassifier()\n",
    "rf.fit(X_train,y_train)"
   ]
  },
  {
   "cell_type": "code",
   "execution_count": 14,
   "metadata": {},
   "outputs": [],
   "source": [
    "predictions = rf.predict(X_test)"
   ]
  },
  {
   "cell_type": "code",
   "execution_count": 16,
   "metadata": {},
   "outputs": [
    {
     "data": {
      "text/plain": [
       "array([0.70658462, 0.71778462, 0.71975385, 0.71889231, 0.71926154])"
      ]
     },
     "execution_count": 16,
     "metadata": {},
     "output_type": "execute_result"
    }
   ],
   "source": [
    "cross_val_score(rf,X_train,y_train,cv=5)"
   ]
  }
 ],
 "metadata": {
  "kernelspec": {
   "display_name": "Python 3",
   "language": "python",
   "name": "python3"
  },
  "language_info": {
   "codemirror_mode": {
    "name": "ipython",
    "version": 3
   },
   "file_extension": ".py",
   "mimetype": "text/x-python",
   "name": "python",
   "nbconvert_exporter": "python",
   "pygments_lexer": "ipython3",
   "version": "3.7.7"
  }
 },
 "nbformat": 4,
 "nbformat_minor": 4
}
